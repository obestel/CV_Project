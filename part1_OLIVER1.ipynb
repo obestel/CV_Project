{
 "cells": [
  {
   "cell_type": "code",
   "execution_count": 1,
   "metadata": {},
   "outputs": [],
   "source": [
    "import numpy as np\n",
    "import cv2 \n",
    "from matplotlib import pyplot as plt\n",
    "import os\n",
    "import glob\n",
    "import time"
   ]
  },
  {
   "cell_type": "code",
   "execution_count": 3,
   "metadata": {},
   "outputs": [],
   "source": [
    "\n",
    "## ws stand for window size, window size component \n",
    "def img_disparity(img_left, img_right, ws_component):\n",
    "\n",
    "    img_left = cv2.copyMakeBorder(img_left, ws_component, ws_component, ws_component, ws_component, cv2.BORDER_CONSTANT, None, value = 0)\n",
    "    img_right = cv2.copyMakeBorder(img_right, ws_component, ws_component, ws_component, ws_component, cv2.BORDER_CONSTANT, None, value = 0)\n",
    "\n",
    "    x = img_left.shape[1] \n",
    "    y = img_left.shape[0]\n",
    "\n",
    "    print(y)\n",
    "    print(x)\n",
    "\n",
    "    disparity = []\n",
    "\n",
    "    # for i_y in range(1,10):\n",
    "    for i_y in range(ws_component, y-ws_component):\n",
    "\n",
    "        if(i_y % 100 == 0):\n",
    "            print(\"On row \", i_y) ## Just to help you keep track of progress\n",
    "        \n",
    "        right_line_nbhds = []\n",
    "\n",
    "        ## Calculate all the pixel neighbourhoods for the row in the right image\n",
    "        for i_x2 in range(ws_component, x-ws_component):\n",
    "            nbhd_right_img = np.array(img_right[i_y-ws_component:i_y+ws_component+1, i_x2-ws_component:i_x2+ws_component+1,:]).astype(int).flatten() ##.reshape(1,window_size**2)\n",
    "            right_line_nbhds.append(nbhd_right_img)\n",
    "\n",
    "        \n",
    "\n",
    "\n",
    "        right_line_nbhds = np.array(right_line_nbhds).flatten()\n",
    "        right_line_nbhds = np.tile(right_line_nbhds, x-2*ws_component) ## This replicates the right neighbourhoods\n",
    "        \n",
    "        # print(right_line_nbhds[0:100])\n",
    "        # print(\"rhnbdhs \" , len(right_line_nbhds))\n",
    "\n",
    "        left_line_nbhds = []\n",
    "\n",
    "        for i_x2 in range (ws_component, x - ws_component):\n",
    "\n",
    "\n",
    "            nbhd_left_img = np.array(img_left[i_y-ws_component:i_y+ws_component+1, i_x2-ws_component:i_x2+ws_component+1,:]).astype(int).flatten()\n",
    "            nbhd_left_img = np.tile(nbhd_left_img, x - 2*ws_component) ## Replicate that specific nbhd by the amount of pixels we consider in a row\n",
    "            left_line_nbhds.append(nbhd_left_img)\n",
    "\n",
    "\n",
    "\n",
    "\n",
    "        left_line_nbhds = np.array(left_line_nbhds).flatten()\n",
    "\n",
    "        # print(left_line_nbhds[0:100])\n",
    "        # print(\"left nbdhs \" , len(left_line_nbhds))\n",
    "\n",
    "        difference = ((left_line_nbhds-right_line_nbhds)**2)\n",
    "\n",
    "        step = ((2*ws_component+1)**2)*3 ## Number of pixels in window * number of colour channels(3)\n",
    "\n",
    "        ssds = np.array([difference[i:i+step].sum() for i in range(0,len(difference), step )] ) ## Sums the squared difference for intervals of length step \n",
    "\n",
    "        min_ssd = np.array([np.argmin(ssds[i:i + (x - 2*ws_component)]) for i in range (0, (x - 2*ws_component)**2, (x - 2*ws_component) )])\n",
    "\n",
    "        row_disparity = min_ssd - np.linspace(0, x - (2*ws_component + 1) ,num = (x-2*ws_component)).astype(int)\n",
    "\n",
    "        disparity.append(row_disparity)\n",
    "    \n",
    "            \n",
    "    return disparity"
   ]
  },
  {
   "cell_type": "markdown",
   "metadata": {},
   "source": [
    "This just prints the images paths that have been sorted"
   ]
  },
  {
   "cell_type": "code",
   "execution_count": null,
   "metadata": {},
   "outputs": [],
   "source": [
    "data_dir = os.getcwd() + '/Dataset/*.jpg'\n",
    "img_files = glob.glob(data_dir)\n",
    "\n",
    "img_files.sort() ## Sorts images so <img>left and <img>right are next to eachother. \n",
    "\n",
    "# window_size_components = [1, 3, 6] ## Remember window size component is 2*window_size_component+1\n",
    "\n",
    "all_disparties_ws3 = []\n",
    "\n",
    "i = 0 \n",
    "for i in img_files:\n",
    "    print(i)"
   ]
  },
  {
   "cell_type": "markdown",
   "metadata": {},
   "source": [
    "**The way I have set this up is so each code block tests a single image. This is done incase any failures happen. Just queue up the code cells to run.**"
   ]
  },
  {
   "cell_type": "markdown",
   "metadata": {},
   "source": [
    "Image 25"
   ]
  },
  {
   "cell_type": "code",
   "execution_count": 4,
   "metadata": {},
   "outputs": [
    {
     "name": "stdout",
     "output_type": "stream",
     "text": [
      "402\n",
      "883\n"
     ]
    },
    {
     "ename": "KeyboardInterrupt",
     "evalue": "",
     "output_type": "error",
     "traceback": [
      "\u001b[0;31m---------------------------------------------------------------------------\u001b[0m",
      "\u001b[0;31mKeyboardInterrupt\u001b[0m                         Traceback (most recent call last)",
      "\u001b[0;32m/var/folders/b4/7ptvpcjn0jq8_vq3_fjnmxrc0000gn/T/ipykernel_69069/3690502105.py\u001b[0m in \u001b[0;36m<module>\u001b[0;34m\u001b[0m\n\u001b[1;32m     14\u001b[0m     \u001b[0mstart\u001b[0m \u001b[0;34m=\u001b[0m \u001b[0mtime\u001b[0m\u001b[0;34m.\u001b[0m\u001b[0mtime\u001b[0m\u001b[0;34m(\u001b[0m\u001b[0;34m)\u001b[0m\u001b[0;34m\u001b[0m\u001b[0;34m\u001b[0m\u001b[0m\n\u001b[1;32m     15\u001b[0m \u001b[0;34m\u001b[0m\u001b[0m\n\u001b[0;32m---> 16\u001b[0;31m     \u001b[0mdisparity\u001b[0m \u001b[0;34m=\u001b[0m \u001b[0mimg_disparity\u001b[0m\u001b[0;34m(\u001b[0m\u001b[0mleft\u001b[0m\u001b[0;34m,\u001b[0m \u001b[0mright\u001b[0m\u001b[0;34m,\u001b[0m \u001b[0mws_component\u001b[0m \u001b[0;34m=\u001b[0m \u001b[0mw\u001b[0m\u001b[0;34m)\u001b[0m\u001b[0;34m\u001b[0m\u001b[0;34m\u001b[0m\u001b[0m\n\u001b[0m\u001b[1;32m     17\u001b[0m \u001b[0;34m\u001b[0m\u001b[0m\n\u001b[1;32m     18\u001b[0m     \u001b[0mend\u001b[0m \u001b[0;34m=\u001b[0m \u001b[0mtime\u001b[0m\u001b[0;34m.\u001b[0m\u001b[0mtime\u001b[0m\u001b[0;34m(\u001b[0m\u001b[0;34m)\u001b[0m\u001b[0;34m\u001b[0m\u001b[0;34m\u001b[0m\u001b[0m\n",
      "\u001b[0;32m/var/folders/b4/7ptvpcjn0jq8_vq3_fjnmxrc0000gn/T/ipykernel_69069/2973056192.py\u001b[0m in \u001b[0;36mimg_disparity\u001b[0;34m(img_left, img_right, ws_component)\u001b[0m\n\u001b[1;32m     56\u001b[0m         \u001b[0mstep\u001b[0m \u001b[0;34m=\u001b[0m \u001b[0;34m(\u001b[0m\u001b[0;34m(\u001b[0m\u001b[0;36m2\u001b[0m\u001b[0;34m*\u001b[0m\u001b[0mws_component\u001b[0m\u001b[0;34m+\u001b[0m\u001b[0;36m1\u001b[0m\u001b[0;34m)\u001b[0m\u001b[0;34m**\u001b[0m\u001b[0;36m2\u001b[0m\u001b[0;34m)\u001b[0m\u001b[0;34m*\u001b[0m\u001b[0;36m3\u001b[0m \u001b[0;31m## Number of pixels in window * number of colour channels(3)\u001b[0m\u001b[0;34m\u001b[0m\u001b[0;34m\u001b[0m\u001b[0m\n\u001b[1;32m     57\u001b[0m \u001b[0;34m\u001b[0m\u001b[0m\n\u001b[0;32m---> 58\u001b[0;31m         \u001b[0mssds\u001b[0m \u001b[0;34m=\u001b[0m \u001b[0mnp\u001b[0m\u001b[0;34m.\u001b[0m\u001b[0marray\u001b[0m\u001b[0;34m(\u001b[0m\u001b[0;34m[\u001b[0m\u001b[0mdifference\u001b[0m\u001b[0;34m[\u001b[0m\u001b[0mi\u001b[0m\u001b[0;34m:\u001b[0m\u001b[0mi\u001b[0m\u001b[0;34m+\u001b[0m\u001b[0mstep\u001b[0m\u001b[0;34m]\u001b[0m\u001b[0;34m.\u001b[0m\u001b[0msum\u001b[0m\u001b[0;34m(\u001b[0m\u001b[0;34m)\u001b[0m \u001b[0;32mfor\u001b[0m \u001b[0mi\u001b[0m \u001b[0;32min\u001b[0m \u001b[0mrange\u001b[0m\u001b[0;34m(\u001b[0m\u001b[0;36m0\u001b[0m\u001b[0;34m,\u001b[0m\u001b[0mlen\u001b[0m\u001b[0;34m(\u001b[0m\u001b[0mdifference\u001b[0m\u001b[0;34m)\u001b[0m\u001b[0;34m,\u001b[0m \u001b[0mstep\u001b[0m \u001b[0;34m)\u001b[0m\u001b[0;34m]\u001b[0m \u001b[0;34m)\u001b[0m \u001b[0;31m## Sums the squared difference for intervals of length step\u001b[0m\u001b[0;34m\u001b[0m\u001b[0;34m\u001b[0m\u001b[0m\n\u001b[0m\u001b[1;32m     59\u001b[0m \u001b[0;34m\u001b[0m\u001b[0m\n\u001b[1;32m     60\u001b[0m         \u001b[0mmin_ssd\u001b[0m \u001b[0;34m=\u001b[0m \u001b[0mnp\u001b[0m\u001b[0;34m.\u001b[0m\u001b[0marray\u001b[0m\u001b[0;34m(\u001b[0m\u001b[0;34m[\u001b[0m\u001b[0mnp\u001b[0m\u001b[0;34m.\u001b[0m\u001b[0margmin\u001b[0m\u001b[0;34m(\u001b[0m\u001b[0mssds\u001b[0m\u001b[0;34m[\u001b[0m\u001b[0mi\u001b[0m\u001b[0;34m:\u001b[0m\u001b[0mi\u001b[0m \u001b[0;34m+\u001b[0m \u001b[0;34m(\u001b[0m\u001b[0mx\u001b[0m \u001b[0;34m-\u001b[0m \u001b[0;36m2\u001b[0m\u001b[0;34m*\u001b[0m\u001b[0mws_component\u001b[0m\u001b[0;34m)\u001b[0m\u001b[0;34m]\u001b[0m\u001b[0;34m)\u001b[0m \u001b[0;32mfor\u001b[0m \u001b[0mi\u001b[0m \u001b[0;32min\u001b[0m \u001b[0mrange\u001b[0m \u001b[0;34m(\u001b[0m\u001b[0;36m0\u001b[0m\u001b[0;34m,\u001b[0m \u001b[0;34m(\u001b[0m\u001b[0mx\u001b[0m \u001b[0;34m-\u001b[0m \u001b[0;36m2\u001b[0m\u001b[0;34m*\u001b[0m\u001b[0mws_component\u001b[0m\u001b[0;34m)\u001b[0m\u001b[0;34m**\u001b[0m\u001b[0;36m2\u001b[0m\u001b[0;34m,\u001b[0m \u001b[0;34m(\u001b[0m\u001b[0mx\u001b[0m \u001b[0;34m-\u001b[0m \u001b[0;36m2\u001b[0m\u001b[0;34m*\u001b[0m\u001b[0mws_component\u001b[0m\u001b[0;34m)\u001b[0m \u001b[0;34m)\u001b[0m\u001b[0;34m]\u001b[0m\u001b[0;34m)\u001b[0m\u001b[0;34m\u001b[0m\u001b[0;34m\u001b[0m\u001b[0m\n",
      "\u001b[0;32m/var/folders/b4/7ptvpcjn0jq8_vq3_fjnmxrc0000gn/T/ipykernel_69069/2973056192.py\u001b[0m in \u001b[0;36m<listcomp>\u001b[0;34m(.0)\u001b[0m\n\u001b[1;32m     56\u001b[0m         \u001b[0mstep\u001b[0m \u001b[0;34m=\u001b[0m \u001b[0;34m(\u001b[0m\u001b[0;34m(\u001b[0m\u001b[0;36m2\u001b[0m\u001b[0;34m*\u001b[0m\u001b[0mws_component\u001b[0m\u001b[0;34m+\u001b[0m\u001b[0;36m1\u001b[0m\u001b[0;34m)\u001b[0m\u001b[0;34m**\u001b[0m\u001b[0;36m2\u001b[0m\u001b[0;34m)\u001b[0m\u001b[0;34m*\u001b[0m\u001b[0;36m3\u001b[0m \u001b[0;31m## Number of pixels in window * number of colour channels(3)\u001b[0m\u001b[0;34m\u001b[0m\u001b[0;34m\u001b[0m\u001b[0m\n\u001b[1;32m     57\u001b[0m \u001b[0;34m\u001b[0m\u001b[0m\n\u001b[0;32m---> 58\u001b[0;31m         \u001b[0mssds\u001b[0m \u001b[0;34m=\u001b[0m \u001b[0mnp\u001b[0m\u001b[0;34m.\u001b[0m\u001b[0marray\u001b[0m\u001b[0;34m(\u001b[0m\u001b[0;34m[\u001b[0m\u001b[0mdifference\u001b[0m\u001b[0;34m[\u001b[0m\u001b[0mi\u001b[0m\u001b[0;34m:\u001b[0m\u001b[0mi\u001b[0m\u001b[0;34m+\u001b[0m\u001b[0mstep\u001b[0m\u001b[0;34m]\u001b[0m\u001b[0;34m.\u001b[0m\u001b[0msum\u001b[0m\u001b[0;34m(\u001b[0m\u001b[0;34m)\u001b[0m \u001b[0;32mfor\u001b[0m \u001b[0mi\u001b[0m \u001b[0;32min\u001b[0m \u001b[0mrange\u001b[0m\u001b[0;34m(\u001b[0m\u001b[0;36m0\u001b[0m\u001b[0;34m,\u001b[0m\u001b[0mlen\u001b[0m\u001b[0;34m(\u001b[0m\u001b[0mdifference\u001b[0m\u001b[0;34m)\u001b[0m\u001b[0;34m,\u001b[0m \u001b[0mstep\u001b[0m \u001b[0;34m)\u001b[0m\u001b[0;34m]\u001b[0m \u001b[0;34m)\u001b[0m \u001b[0;31m## Sums the squared difference for intervals of length step\u001b[0m\u001b[0;34m\u001b[0m\u001b[0;34m\u001b[0m\u001b[0m\n\u001b[0m\u001b[1;32m     59\u001b[0m \u001b[0;34m\u001b[0m\u001b[0m\n\u001b[1;32m     60\u001b[0m         \u001b[0mmin_ssd\u001b[0m \u001b[0;34m=\u001b[0m \u001b[0mnp\u001b[0m\u001b[0;34m.\u001b[0m\u001b[0marray\u001b[0m\u001b[0;34m(\u001b[0m\u001b[0;34m[\u001b[0m\u001b[0mnp\u001b[0m\u001b[0;34m.\u001b[0m\u001b[0margmin\u001b[0m\u001b[0;34m(\u001b[0m\u001b[0mssds\u001b[0m\u001b[0;34m[\u001b[0m\u001b[0mi\u001b[0m\u001b[0;34m:\u001b[0m\u001b[0mi\u001b[0m \u001b[0;34m+\u001b[0m \u001b[0;34m(\u001b[0m\u001b[0mx\u001b[0m \u001b[0;34m-\u001b[0m \u001b[0;36m2\u001b[0m\u001b[0;34m*\u001b[0m\u001b[0mws_component\u001b[0m\u001b[0;34m)\u001b[0m\u001b[0;34m]\u001b[0m\u001b[0;34m)\u001b[0m \u001b[0;32mfor\u001b[0m \u001b[0mi\u001b[0m \u001b[0;32min\u001b[0m \u001b[0mrange\u001b[0m \u001b[0;34m(\u001b[0m\u001b[0;36m0\u001b[0m\u001b[0;34m,\u001b[0m \u001b[0;34m(\u001b[0m\u001b[0mx\u001b[0m \u001b[0;34m-\u001b[0m \u001b[0;36m2\u001b[0m\u001b[0;34m*\u001b[0m\u001b[0mws_component\u001b[0m\u001b[0;34m)\u001b[0m\u001b[0;34m**\u001b[0m\u001b[0;36m2\u001b[0m\u001b[0;34m,\u001b[0m \u001b[0;34m(\u001b[0m\u001b[0mx\u001b[0m \u001b[0;34m-\u001b[0m \u001b[0;36m2\u001b[0m\u001b[0;34m*\u001b[0m\u001b[0mws_component\u001b[0m\u001b[0;34m)\u001b[0m \u001b[0;34m)\u001b[0m\u001b[0;34m]\u001b[0m\u001b[0;34m)\u001b[0m\u001b[0;34m\u001b[0m\u001b[0;34m\u001b[0m\u001b[0m\n",
      "\u001b[0;32m~/Desktop/Documents/Work/COMP90086/Tuts/env/lib/python3.9/site-packages/numpy/core/_methods.py\u001b[0m in \u001b[0;36m_sum\u001b[0;34m(a, axis, dtype, out, keepdims, initial, where)\u001b[0m\n\u001b[1;32m     46\u001b[0m def _sum(a, axis=None, dtype=None, out=None, keepdims=False,\n\u001b[1;32m     47\u001b[0m          initial=_NoValue, where=True):\n\u001b[0;32m---> 48\u001b[0;31m     \u001b[0;32mreturn\u001b[0m \u001b[0mumr_sum\u001b[0m\u001b[0;34m(\u001b[0m\u001b[0ma\u001b[0m\u001b[0;34m,\u001b[0m \u001b[0maxis\u001b[0m\u001b[0;34m,\u001b[0m \u001b[0mdtype\u001b[0m\u001b[0;34m,\u001b[0m \u001b[0mout\u001b[0m\u001b[0;34m,\u001b[0m \u001b[0mkeepdims\u001b[0m\u001b[0;34m,\u001b[0m \u001b[0minitial\u001b[0m\u001b[0;34m,\u001b[0m \u001b[0mwhere\u001b[0m\u001b[0;34m)\u001b[0m\u001b[0;34m\u001b[0m\u001b[0;34m\u001b[0m\u001b[0m\n\u001b[0m\u001b[1;32m     49\u001b[0m \u001b[0;34m\u001b[0m\u001b[0m\n\u001b[1;32m     50\u001b[0m def _prod(a, axis=None, dtype=None, out=None, keepdims=False,\n",
      "\u001b[0;31mKeyboardInterrupt\u001b[0m: "
     ]
    }
   ],
   "source": [
    "\n",
    "\n",
    "base_path = os.getcwd() ## Make sure you are in the CV_Project Folder`\n",
    "window_size_components = [1, 2, 4, 6] ## Remember window size component is 2*window_size_component+1\n",
    "\n",
    "left = cv2.imread(base_path + '/Dataset/2018-07-09-16-11-56_2018-07-09-16-55-15-689-left.jpg')\n",
    "right = cv2.imread(base_path + '/Dataset/2018-07-09-16-11-56_2018-07-09-16-55-15-689-right.jpg')\n",
    "i = 0 \n",
    "\n",
    "# while i < 10:\n",
    "\n",
    "disps_img25 = []\n",
    "\n",
    "for w in window_size_components:\n",
    "\n",
    "    start = time.time()\n",
    "\n",
    "    disparity = img_disparity(left, right, ws_component = w)\n",
    "\n",
    "    end = time.time()\n",
    "\n",
    "    disps_img25.append(disparity)\n",
    "\n",
    "    print(\"Time taken for ws = {} \".format(2*w+1) , end - start)\n",
    "\n",
    "\n",
    "\n",
    "\n",
    "np.save(\"img25_disps\",arr = disps_img25) \n",
    "\n",
    "    \n"
   ]
  },
  {
   "cell_type": "markdown",
   "metadata": {},
   "source": [
    "Image 24"
   ]
  },
  {
   "cell_type": "code",
   "execution_count": null,
   "metadata": {},
   "outputs": [],
   "source": [
    "\n",
    "base_path = os.getcwd() ## Make sure you are in the CV_Project Folder\n",
    "window_size_components = [1, 2, 4, 6] ## Remember window size component is 2*window_size_component+1\n",
    "\n",
    "left = cv2.imread(base_path +'/Dataset/2018-07-09-16-11-56_2018-07-09-16-52-31-770-left.jpg')\n",
    "right = cv2.imread(base_path +'/Dataset/2018-07-09-16-11-56_2018-07-09-16-52-31-770-right.jpg')\n",
    "\n",
    "i = 0 \n",
    "\n",
    "# while i < 10:\n",
    "\n",
    "disps_img24 = []  ###\n",
    "\n",
    "for w in window_size_components:\n",
    "\n",
    "    start = time.time()\n",
    "\n",
    "    disparity = img_disparity(left, right, ws_component = w)\n",
    "\n",
    "    end = time.time()\n",
    "\n",
    "    disps_img24.append(disparity) ###\n",
    "\n",
    "    print(\"Time taken for ws = {} \".format(2*w+1) , end - start)\n",
    "\n",
    "\n",
    "\n",
    "\n",
    "np.save(\"img24_disps\",arr = disps_img24) ###\n"
   ]
  },
  {
   "cell_type": "markdown",
   "metadata": {},
   "source": [
    "Image 23"
   ]
  },
  {
   "cell_type": "code",
   "execution_count": null,
   "metadata": {},
   "outputs": [],
   "source": [
    "base_path = os.getcwd() ## Make sure you are in the CV_Project Folder\n",
    "window_size_components = [1, 2, 4, 6] ## Remember window size component is 2*window_size_component+1\n",
    "\n",
    "left = cv2.imread(base_path +'/Dataset/2018-07-09-16-11-56_2018-07-09-16-51-40-823-left.jpg')\n",
    "right = cv2.imread(base_path +'/Dataset/2018-07-09-16-11-56_2018-07-09-16-51-40-823-right.jpg')\n",
    "\n",
    "i = 0 \n",
    "\n",
    "# while i < 10:\n",
    "\n",
    "disps_img23 = []  ###\n",
    "\n",
    "for w in window_size_components:\n",
    "\n",
    "    start = time.time()\n",
    "\n",
    "    disparity = img_disparity(left, right, ws_component = w)\n",
    "\n",
    "    end = time.time()\n",
    "\n",
    "    disps_img23.append(disparity) ###\n",
    "\n",
    "    print(\"Time taken for ws = {} \".format(2*w+1) , end - start)\n",
    "\n",
    "\n",
    "\n",
    "\n",
    "np.save(\"img23_disps\",arr = disps_img23) ###"
   ]
  },
  {
   "cell_type": "markdown",
   "metadata": {},
   "source": [
    "Image 22"
   ]
  },
  {
   "cell_type": "code",
   "execution_count": null,
   "metadata": {},
   "outputs": [],
   "source": [
    "base_path = os.getcwd() ## Make sure you are in the CV_Project Folder\n",
    "window_size_components = [1, 2, 4, 6] ## Remember window size component is 2*window_size_component+1\n",
    "\n",
    "left = cv2.imread(base_path +'/Dataset/2018-07-09-16-11-56_2018-07-09-16-49-27-623-left.jpg')\n",
    "right = cv2.imread(base_path +'/Dataset/2018-07-09-16-11-56_2018-07-09-16-49-27-623-right.jpg')\n",
    "\n",
    "i = 0 \n",
    "\n",
    "# while i < 10:\n",
    "\n",
    "disps_img22 = []  ###\n",
    "\n",
    "for w in window_size_components:\n",
    "\n",
    "    start = time.time()\n",
    "\n",
    "    disparity = img_disparity(left, right, ws_component = w)\n",
    "\n",
    "    end = time.time()\n",
    "\n",
    "    disps_img22.append(disparity) ###\n",
    "\n",
    "    print(\"Time taken for ws = {} \".format(2*w+1) , end - start)\n",
    "\n",
    "\n",
    "\n",
    "\n",
    "np.save(\"img22_disps\",arr = disps_img22) ###"
   ]
  },
  {
   "cell_type": "markdown",
   "metadata": {},
   "source": [
    "Image 21"
   ]
  },
  {
   "cell_type": "code",
   "execution_count": null,
   "metadata": {},
   "outputs": [],
   "source": [
    "base_path = os.getcwd() ## Make sure you are in the CV_Project Folder\n",
    "window_size_components = [1, 2, 4, 6] ## Remember window size component is 2*window_size_component+1\n",
    "\n",
    "left = cv2.imread(base_path +'/Dataset/2018-07-09-16-11-56_2018-07-09-16-46-51-712-left.jpg')\n",
    "right = cv2.imread(base_path +'/Dataset/2018-07-09-16-11-56_2018-07-09-16-46-51-712-right.jpg')\n",
    "\n",
    "i = 0 \n",
    "\n",
    "# while i < 10:\n",
    "\n",
    "disps_img21 = []  ###\n",
    "\n",
    "for w in window_size_components:\n",
    "\n",
    "    start = time.time()\n",
    "\n",
    "    disparity = img_disparity(left, right, ws_component = w)\n",
    "\n",
    "    end = time.time()\n",
    "\n",
    "    disps_img21.append(disparity) ###\n",
    "\n",
    "    print(\"Time taken for ws = {} \".format(2*w+1) , end - start)\n",
    "\n",
    "\n",
    "\n",
    "\n",
    "np.save(\"img5_disps\",arr = disps_img21) ###"
   ]
  }
 ],
 "metadata": {
  "kernelspec": {
   "display_name": "Python 3.9.13 ('env': venv)",
   "language": "python",
   "name": "python3"
  },
  "language_info": {
   "codemirror_mode": {
    "name": "ipython",
    "version": 3
   },
   "file_extension": ".py",
   "mimetype": "text/x-python",
   "name": "python",
   "nbconvert_exporter": "python",
   "pygments_lexer": "ipython3",
   "version": "3.9.13"
  },
  "orig_nbformat": 4,
  "vscode": {
   "interpreter": {
    "hash": "a556080f440ce4eae31571ed45251c89aab9158a4265b5d3e7cf9fbd88dba5a2"
   }
  }
 },
 "nbformat": 4,
 "nbformat_minor": 2
}
