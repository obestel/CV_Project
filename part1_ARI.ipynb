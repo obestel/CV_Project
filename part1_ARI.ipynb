{
 "cells": [
  {
   "cell_type": "code",
   "execution_count": 2,
   "metadata": {},
   "outputs": [],
   "source": [
    "import numpy as np\n",
    "import cv2 \n",
    "from matplotlib import pyplot as plt\n",
    "import os\n",
    "import glob\n",
    "import time"
   ]
  },
  {
   "cell_type": "code",
   "execution_count": null,
   "metadata": {},
   "outputs": [],
   "source": [
    "\n",
    "## ws stand for window size, window size component \n",
    "def img_disparity(img_left, img_right, ws_component):\n",
    "\n",
    "    img_left = cv2.copyMakeBorder(img_left, ws_component, ws_component, ws_component, ws_component, cv2.BORDER_CONSTANT, None, value = 0)\n",
    "    img_right = cv2.copyMakeBorder(img_right, ws_component, ws_component, ws_component, ws_component, cv2.BORDER_CONSTANT, None, value = 0)\n",
    "\n",
    "    x = img_left.shape[1] \n",
    "    y = img_left.shape[0]\n",
    "\n",
    "    print(y)\n",
    "    print(x)\n",
    "\n",
    "    disparity = []\n",
    "\n",
    "    # for i_y in range(1,10):\n",
    "    for i_y in range(ws_component, y-ws_component):\n",
    "\n",
    "        if(i_y % 100 == 0):\n",
    "            print(\"On row \", i_y) ## Just to help you keep track of progress\n",
    "        \n",
    "        right_line_nbhds = []\n",
    "\n",
    "        ## Calculate all the pixel neighbourhoods for the row in the right image\n",
    "        for i_x2 in range(ws_component, x-ws_component):\n",
    "            nbhd_right_img = np.array(img_right[i_y-ws_component:i_y+ws_component+1, i_x2-ws_component:i_x2+ws_component+1,:]).astype(int).flatten() ##.reshape(1,window_size**2)\n",
    "            right_line_nbhds.append(nbhd_right_img)\n",
    "\n",
    "        \n",
    "\n",
    "\n",
    "        right_line_nbhds = np.array(right_line_nbhds).flatten()\n",
    "        right_line_nbhds = np.tile(right_line_nbhds, x-2*ws_component) ## This replicates the right neighbourhoods\n",
    "        \n",
    "        # print(right_line_nbhds[0:100])\n",
    "        # print(\"rhnbdhs \" , len(right_line_nbhds))\n",
    "\n",
    "        left_line_nbhds = []\n",
    "\n",
    "        for i_x2 in range (ws_component, x - ws_component):\n",
    "\n",
    "\n",
    "            nbhd_left_img = np.array(img_left[i_y-ws_component:i_y+ws_component+1, i_x2-ws_component:i_x2+ws_component+1,:]).astype(int).flatten()\n",
    "            nbhd_left_img = np.tile(nbhd_left_img, x - 2*ws_component) ## Replicate that specific nbhd by the amount of pixels we consider in a row\n",
    "            left_line_nbhds.append(nbhd_left_img)\n",
    "\n",
    "\n",
    "\n",
    "\n",
    "        left_line_nbhds = np.array(left_line_nbhds).flatten()\n",
    "\n",
    "        # print(left_line_nbhds[0:100])\n",
    "        # print(\"left nbdhs \" , len(left_line_nbhds))\n",
    "\n",
    "        difference = ((left_line_nbhds-right_line_nbhds)**2)\n",
    "\n",
    "        step = ((2*ws_component+1)**2)*3 ## Number of pixels in window * number of colour channels(3)\n",
    "\n",
    "        ssds = np.array([difference[i:i+step].sum() for i in range(0,len(difference), step )] ) ## Sums the squared difference for intervals of length step \n",
    "\n",
    "        min_ssd = np.array([np.argmin(ssds[i:i + (x - 2*ws_component)]) for i in range (0, (x - 2*ws_component)**2, (x - 2*ws_component) )])\n",
    "\n",
    "        row_disparity = min_ssd - np.linspace(0, x - (2*ws_component + 1) ,num = (x-2*ws_component)).astype(int)\n",
    "\n",
    "        disparity.append(row_disparity)\n",
    "    \n",
    "            \n",
    "    return disparity"
   ]
  },
  {
   "cell_type": "markdown",
   "metadata": {},
   "source": [
    "This just prints the images paths that have been sorted"
   ]
  },
  {
   "cell_type": "code",
   "execution_count": null,
   "metadata": {},
   "outputs": [],
   "source": [
    "data_dir = os.getcwd() + '/Dataset/*.jpg'\n",
    "img_files = glob.glob(data_dir)\n",
    "\n",
    "img_files.sort() ## Sorts images so <img>left and <img>right are next to eachother. \n",
    "\n",
    "# window_size_components = [1, 3, 6] ## Remember window size component is 2*window_size_component+1\n",
    "\n",
    "all_disparties_ws3 = []\n",
    "\n",
    "i = 0 \n",
    "for i in img_files:\n",
    "    print(i)"
   ]
  },
  {
   "cell_type": "markdown",
   "metadata": {},
   "source": [
    "**The way I have set this up is so each code block tests a single image. This is done incase any failures happen. Just queue up the code cells to run.**"
   ]
  },
  {
   "cell_type": "markdown",
   "metadata": {},
   "source": [
    "Image 1"
   ]
  },
  {
   "cell_type": "code",
   "execution_count": null,
   "metadata": {},
   "outputs": [],
   "source": [
    "\n",
    "\n",
    "base_path = os.getcwd() ## Make sure you are in the CV_Project Folder`\n",
    "window_size_components = [1, 2, 4, 6] ## Remember window size component is 2*window_size_component+1\n",
    "\n",
    "left = cv2.imread(base_path + '/Dataset/2018-07-09-16-11-56_2018-07-09-16-11-56-702-left.jpg')\n",
    "right = cv2.imread(base_path + '/Dataset/2018-07-09-16-11-56_2018-07-09-16-11-56-702-right.jpg')\n",
    "i = 0 \n",
    "\n",
    "# while i < 10:\n",
    "\n",
    "disps_img1 = []\n",
    "\n",
    "for w in window_size_components:\n",
    "\n",
    "    start = time.time()\n",
    "\n",
    "    disparity = img_disparity(left, right, ws_component = w)\n",
    "\n",
    "    end = time.time()\n",
    "\n",
    "    disps_img1.append(disparity)\n",
    "\n",
    "    print(\"Time taken for ws = {} \".format(2*w+1) , end - start)\n",
    "\n",
    "\n",
    "\n",
    "\n",
    "np.save(\"img1_disps\",arr = disps_img1) \n",
    "\n",
    "    \n"
   ]
  },
  {
   "cell_type": "markdown",
   "metadata": {},
   "source": [
    "Image 2"
   ]
  },
  {
   "cell_type": "code",
   "execution_count": null,
   "metadata": {},
   "outputs": [],
   "source": [
    "\n",
    "base_path = os.getcwd() ## Make sure you are in the CV_Project Folder\n",
    "window_size_components = [1, 2, 4, 6] ## Remember window size component is 2*window_size_component+1\n",
    "\n",
    "left = cv2.imread(base_path +'/Dataset/2018-07-09-16-11-56_2018-07-09-16-13-38-366-left.jpg')\n",
    "right = cv2.imread(base_path +'/Dataset/2018-07-09-16-11-56_2018-07-09-16-13-38-366-right.jpg')\n",
    "\n",
    "i = 0 \n",
    "\n",
    "# while i < 10:\n",
    "\n",
    "disps_img2 = []  ###\n",
    "\n",
    "for w in window_size_components:\n",
    "\n",
    "    start = time.time()\n",
    "\n",
    "    disparity = img_disparity(left, right, ws_component = w)\n",
    "\n",
    "    end = time.time()\n",
    "\n",
    "    disps_img2.append(disparity) ###\n",
    "\n",
    "    print(\"Time taken for ws = {} \".format(2*w+1) , end - start)\n",
    "\n",
    "\n",
    "\n",
    "\n",
    "np.save(\"img2_disps\",arr = disps_img2) ###\n"
   ]
  },
  {
   "cell_type": "markdown",
   "metadata": {},
   "source": [
    "Image 3"
   ]
  },
  {
   "cell_type": "code",
   "execution_count": null,
   "metadata": {},
   "outputs": [],
   "source": [
    "base_path = os.getcwd() ## Make sure you are in the CV_Project Folder\n",
    "window_size_components = [1, 2, 4, 6] ## Remember window size component is 2*window_size_component+1\n",
    "\n",
    "left = cv2.imread(base_path +'/Dataset/2018-07-09-16-11-56_2018-07-09-16-14-54-205-left.jpg')\n",
    "right = cv2.imread(base_path +'/Dataset/2018-07-09-16-11-56_2018-07-09-16-14-54-205-right.jpg')\n",
    "\n",
    "i = 0 \n",
    "\n",
    "# while i < 10:\n",
    "\n",
    "disps_img3 = []  ###\n",
    "\n",
    "for w in window_size_components:\n",
    "\n",
    "    start = time.time()\n",
    "\n",
    "    disparity = img_disparity(left, right, ws_component = w)\n",
    "\n",
    "    end = time.time()\n",
    "\n",
    "    disps_img3.append(disparity) ###\n",
    "\n",
    "    print(\"Time taken for ws = {} \".format(2*w+1) , end - start)\n",
    "\n",
    "\n",
    "\n",
    "\n",
    "np.save(\"img3_disps\",arr = disps_img3) ###"
   ]
  },
  {
   "cell_type": "markdown",
   "metadata": {},
   "source": [
    "Image 4"
   ]
  },
  {
   "cell_type": "code",
   "execution_count": null,
   "metadata": {},
   "outputs": [],
   "source": [
    "base_path = os.getcwd() ## Make sure you are in the CV_Project Folder\n",
    "window_size_components = [1, 2, 4, 6] ## Remember window size component is 2*window_size_component+1\n",
    "\n",
    "left = cv2.imread(base_path +'/Dataset/2018-07-09-16-11-56_2018-07-09-16-16-13-272-left.jpg')\n",
    "right = cv2.imread(base_path +'/Dataset/2018-07-09-16-11-56_2018-07-09-16-16-13-272-right.jpg')\n",
    "\n",
    "i = 0 \n",
    "\n",
    "# while i < 10:\n",
    "\n",
    "disps_img4 = []  ###\n",
    "\n",
    "for w in window_size_components:\n",
    "\n",
    "    start = time.time()\n",
    "\n",
    "    disparity = img_disparity(left, right, ws_component = w)\n",
    "\n",
    "    end = time.time()\n",
    "\n",
    "    disps_img4.append(disparity) ###\n",
    "\n",
    "    print(\"Time taken for ws = {} \".format(2*w+1) , end - start)\n",
    "\n",
    "\n",
    "\n",
    "\n",
    "np.save(\"img4_disps\",arr = disps_img4) ###"
   ]
  },
  {
   "cell_type": "markdown",
   "metadata": {},
   "source": [
    "Image 5"
   ]
  },
  {
   "cell_type": "code",
   "execution_count": null,
   "metadata": {},
   "outputs": [],
   "source": [
    "base_path = os.getcwd() ## Make sure you are in the CV_Project Folder\n",
    "window_size_components = [1, 2, 4, 6] ## Remember window size component is 2*window_size_component+1\n",
    "\n",
    "left = cv2.imread(base_path +'/Dataset/2018-07-09-16-11-56_2018-07-09-16-25-10-570-left.jpg')\n",
    "right = cv2.imread(base_path +'/Dataset/2018-07-09-16-11-56_2018-07-09-16-25-10-570-right.jpg')\n",
    "\n",
    "i = 0 \n",
    "\n",
    "# while i < 10:\n",
    "\n",
    "disps_img5 = []  ###\n",
    "\n",
    "for w in window_size_components:\n",
    "\n",
    "    start = time.time()\n",
    "\n",
    "    disparity = img_disparity(left, right, ws_component = w)\n",
    "\n",
    "    end = time.time()\n",
    "\n",
    "    disps_img5.append(disparity) ###\n",
    "\n",
    "    print(\"Time taken for ws = {} \".format(2*w+1) , end - start)\n",
    "\n",
    "\n",
    "\n",
    "\n",
    "np.save(\"img5_disps\",arr = disps_img5) ###"
   ]
  }
 ],
 "metadata": {
  "kernelspec": {
   "display_name": "Python 3.9.13 ('env': venv)",
   "language": "python",
   "name": "python3"
  },
  "language_info": {
   "codemirror_mode": {
    "name": "ipython",
    "version": 3
   },
   "file_extension": ".py",
   "mimetype": "text/x-python",
   "name": "python",
   "nbconvert_exporter": "python",
   "pygments_lexer": "ipython3",
   "version": "3.9.13"
  },
  "orig_nbformat": 4,
  "vscode": {
   "interpreter": {
    "hash": "a556080f440ce4eae31571ed45251c89aab9158a4265b5d3e7cf9fbd88dba5a2"
   }
  }
 },
 "nbformat": 4,
 "nbformat_minor": 2
}
