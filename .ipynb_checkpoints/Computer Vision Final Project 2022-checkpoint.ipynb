{
 "cells": [
  {
   "cell_type": "markdown",
   "id": "90d12882",
   "metadata": {},
   "source": [
    "# Part 1"
   ]
  },
  {
   "cell_type": "code",
   "execution_count": null,
   "id": "d7754408",
   "metadata": {},
   "outputs": [],
   "source": []
  },
  {
   "cell_type": "markdown",
   "id": "dd73001f",
   "metadata": {},
   "source": [
    "# Part 2"
   ]
  },
  {
   "cell_type": "markdown",
   "id": "4d34d343",
   "metadata": {},
   "source": [
    "Functions to calculate the per-pixel error, the rms error, and the fractions of pixels with less than 4, 2, 1, and 0.25 pixels error.\n",
    "All of the statistic function use get_dif in their implementation, so you don't need to call it first."
   ]
  },
  {
   "cell_type": "code",
   "execution_count": 2,
   "id": "c2af9eda",
   "metadata": {},
   "outputs": [],
   "source": [
    "import numpy as np\n",
    "ERROR_SHAPE_MISMATCH = -1"
   ]
  },
  {
   "cell_type": "code",
   "execution_count": 23,
   "id": "c23467ad",
   "metadata": {},
   "outputs": [],
   "source": [
    "def get_dif(disp_calc, disp_truth):\n",
    "    \"\"\"\n",
    "    Gets the difference in pixels between the calculated and ground disparity maps\n",
    "    Assumes the ground is in units of 256*pixels, and the calculated is in pixels\n",
    "    Returns the difference as a 2d array of same shape is its inputs, as well as an index representing the non-zero values\n",
    "    \"\"\"\n",
    "    # Make sure the images are the same size\n",
    "    if (disp_calc.shape != disp_truth.shape):\n",
    "        print(\"ERROR! The disparity map and the ground truth have differenct sizes\")\n",
    "        return ERROR_SHAPE_MISMATCH, ERROR_SHAPE_MISMATCH\n",
    "    # Get the indices of the nonzero values\n",
    "    non_zero   = np.nonzero(disp_truth)\n",
    "    difference = disp_truth.copy()/256\n",
    "    # Get the differences\n",
    "    difference[non_zero] = difference[non_zero] - disp_calc[non_zero]\n",
    "    difference = np.abs(difference)\n",
    "    \n",
    "    return difference, non_zero"
   ]
  },
  {
   "cell_type": "code",
   "execution_count": 45,
   "id": "6d540143",
   "metadata": {},
   "outputs": [],
   "source": [
    "a = np.eye(10)"
   ]
  },
  {
   "cell_type": "code",
   "execution_count": 72,
   "id": "a24c0e0d",
   "metadata": {},
   "outputs": [],
   "source": [
    "b = np.eye(10)*128"
   ]
  },
  {
   "cell_type": "code",
   "execution_count": 73,
   "id": "46fd707b",
   "metadata": {},
   "outputs": [
    {
     "data": {
      "text/plain": [
       "(array([[0.5, 0. , 0. , 0. , 0. , 0. , 0. , 0. , 0. , 0. ],\n",
       "        [0. , 0.5, 0. , 0. , 0. , 0. , 0. , 0. , 0. , 0. ],\n",
       "        [0. , 0. , 0.5, 0. , 0. , 0. , 0. , 0. , 0. , 0. ],\n",
       "        [0. , 0. , 0. , 0.5, 0. , 0. , 0. , 0. , 0. , 0. ],\n",
       "        [0. , 0. , 0. , 0. , 0.5, 0. , 0. , 0. , 0. , 0. ],\n",
       "        [0. , 0. , 0. , 0. , 0. , 0.5, 0. , 0. , 0. , 0. ],\n",
       "        [0. , 0. , 0. , 0. , 0. , 0. , 0.5, 0. , 0. , 0. ],\n",
       "        [0. , 0. , 0. , 0. , 0. , 0. , 0. , 0.5, 0. , 0. ],\n",
       "        [0. , 0. , 0. , 0. , 0. , 0. , 0. , 0. , 0.5, 0. ],\n",
       "        [0. , 0. , 0. , 0. , 0. , 0. , 0. , 0. , 0. , 0.5]]),\n",
       " (array([0, 1, 2, 3, 4, 5, 6, 7, 8, 9], dtype=int64),\n",
       "  array([0, 1, 2, 3, 4, 5, 6, 7, 8, 9], dtype=int64)))"
      ]
     },
     "execution_count": 73,
     "metadata": {},
     "output_type": "execute_result"
    }
   ],
   "source": [
    "get_dif(a,b)"
   ]
  },
  {
   "cell_type": "code",
   "execution_count": 74,
   "id": "12ff0298",
   "metadata": {},
   "outputs": [],
   "source": [
    "def rms(disp_calc, disp_truth):\n",
    "    \"\"\"\n",
    "    Given a calculated and a ground disparity map, computes the rms between them\n",
    "    \"\"\"\n",
    "    difference, non_zero = get_dif(disp_calc, disp_truth)\n",
    "    error         = np.sqrt(np.mean(difference[non_zero].flatten()**2))\n",
    "    return error"
   ]
  },
  {
   "cell_type": "code",
   "execution_count": 75,
   "id": "63f7be32",
   "metadata": {},
   "outputs": [
    {
     "data": {
      "text/plain": [
       "0.5"
      ]
     },
     "execution_count": 75,
     "metadata": {},
     "output_type": "execute_result"
    }
   ],
   "source": [
    "rms(a,b)"
   ]
  },
  {
   "cell_type": "code",
   "execution_count": 76,
   "id": "8c7a2af3",
   "metadata": {},
   "outputs": [],
   "source": [
    "def fractions(disp_calc, disp_truth):\n",
    "    \"\"\"\n",
    "    Given a calculated and a ground disparity map, computes the \n",
    "    fractions of pixels with less than 4, 2, 1, and 0.25 pixels error\n",
    "    \"\"\"\n",
    "    difference, non_zero = get_dif(disp_calc, disp_truth)\n",
    "    difs      = difference[non_zero].flatten()\n",
    "    fracs     = [4,2,1,0.5,0.25]\n",
    "    frac_dict = {}\n",
    "    # Calculate the fractions\n",
    "    for frac in fracs:\n",
    "        frac_dict[frac] = len(difs[difs<frac])/len(difs)\n",
    "        \n",
    "    return frac_dict"
   ]
  },
  {
   "cell_type": "code",
   "execution_count": 77,
   "id": "1469a942",
   "metadata": {},
   "outputs": [
    {
     "data": {
      "text/plain": [
       "{4: 1.0, 2: 1.0, 1: 1.0, 0.5: 0.0, 0.25: 0.0}"
      ]
     },
     "execution_count": 77,
     "metadata": {},
     "output_type": "execute_result"
    }
   ],
   "source": [
    "fractions(a,b)"
   ]
  },
  {
   "cell_type": "markdown",
   "id": "252dcacf",
   "metadata": {},
   "source": [
    "Now we wrap all of this up into one function"
   ]
  },
  {
   "cell_type": "code",
   "execution_count": null,
   "id": "a8c2672a",
   "metadata": {},
   "outputs": [],
   "source": [
    "def get_stats(disp_calc, disp_truth):\n",
    "    \n",
    "    "
   ]
  }
 ],
 "metadata": {
  "kernelspec": {
   "display_name": "Python 3 (ipykernel)",
   "language": "python",
   "name": "python3"
  },
  "language_info": {
   "codemirror_mode": {
    "name": "ipython",
    "version": 3
   },
   "file_extension": ".py",
   "mimetype": "text/x-python",
   "name": "python",
   "nbconvert_exporter": "python",
   "pygments_lexer": "ipython3",
   "version": "3.7.6"
  }
 },
 "nbformat": 4,
 "nbformat_minor": 5
}
